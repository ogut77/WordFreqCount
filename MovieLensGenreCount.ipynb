{
  "nbformat": 4,
  "nbformat_minor": 0,
  "metadata": {
    "colab": {
      "name": "MovieLensGenreCount.ipynb",
      "version": "0.3.2",
      "provenance": [],
      "include_colab_link": true
    },
    "kernelspec": {
      "name": "python3",
      "display_name": "Python 3"
    },
    "accelerator": "GPU"
  },
  "cells": [
    {
      "cell_type": "markdown",
      "metadata": {
        "id": "view-in-github",
        "colab_type": "text"
      },
      "source": [
        "<a href=\"https://colab.research.google.com/github/ogut77/WordFreqCountSpark/blob/master/MovieLensGenreCount.ipynb\" target=\"_parent\"><img src=\"https://colab.research.google.com/assets/colab-badge.svg\" alt=\"Open In Colab\"/></a>"
      ]
    },
    {
      "metadata": {
        "id": "JoJnXt9ZGVt8",
        "colab_type": "code",
        "colab": {}
      },
      "cell_type": "code",
      "source": [
        "!apt-get install openjdk-8-jdk-headless -qq > /dev/null\n",
        "!wget -q http://ftp.itu.edu.tr/Mirror/Apache/spark/spark-2.4.0/spark-2.4.0-bin-hadoop2.7.tgz\n",
        "!tar xf spark-2.4.0-bin-hadoop2.7.tgz\n",
        "!pip install -q findspark"
      ],
      "execution_count": 0,
      "outputs": []
    },
    {
      "metadata": {
        "id": "9Vo7yyTeG76L",
        "colab_type": "code",
        "colab": {}
      },
      "cell_type": "code",
      "source": [
        "import os\n",
        "os.environ[\"JAVA_HOME\"] = \"/usr/lib/jvm/java-8-openjdk-amd64\"\n",
        "os.environ[\"SPARK_HOME\"] = \"/content/spark-2.4.0-bin-hadoop2.7\""
      ],
      "execution_count": 0,
      "outputs": []
    },
    {
      "metadata": {
        "id": "dyyifKs-HAIJ",
        "colab_type": "code",
        "colab": {}
      },
      "cell_type": "code",
      "source": [
        "import findspark\n",
        "findspark.init()\n",
        "from pyspark.sql import SparkSession\n",
        "spark = SparkSession.builder.master(\"local[*]\").getOrCreate()\n",
        "from pyspark import SparkContext\n",
        "sc = SparkContext.getOrCreate()\n"
      ],
      "execution_count": 0,
      "outputs": []
    },
    {
      "metadata": {
        "id": "L-CTm82XHKQ6",
        "colab_type": "code",
        "outputId": "20501176-d3c1-4473-a538-8e245921d6d3",
        "colab": {
          "base_uri": "https://localhost:8080/",
          "height": 34
        }
      },
      "cell_type": "code",
      "source": [
        "import urllib.request\n",
        "import pandas as pd \n",
        "import zipfile\n",
        "import os\n",
        "from google.colab import drive\n",
        "\n",
        "# This will prompt for authorization.\n",
        "drive.mount('/content/drive')\n",
        "\n",
        "import os\n",
        "\n",
        "small=urllib.request.urlretrieve('http://files.grouplens.org/datasets/movielens/ml-latest-small.zip','/content/drive/My Drive/small.zip')\n",
        "big=urllib.request.urlretrieve('http://files.grouplens.org/datasets/movielens/ml-latest.zip','/content/drive/My Drive/big.zip')\n",
        "\n",
        "with zipfile.ZipFile('/content/drive/My Drive/small.zip', \"r\") as z:\n",
        "   z.extractall('/content/drive/My Drive/')\n",
        "    \n",
        "with zipfile.ZipFile('/content/drive/My Drive/big.zip', \"r\") as z:\n",
        "   z.extractall('/content/drive/My Drive/')"
      ],
      "execution_count": 0,
      "outputs": [
        {
          "output_type": "stream",
          "text": [
            "Drive already mounted at /content/drive; to attempt to forcibly remount, call drive.mount(\"/content/drive\", force_remount=True).\n"
          ],
          "name": "stdout"
        }
      ]
    },
    {
      "metadata": {
        "id": "ab_HTx0LHT54",
        "colab_type": "code",
        "outputId": "fc1f3340-76c6-478f-8c14-26c55f30bea1",
        "colab": {
          "base_uri": "https://localhost:8080/",
          "height": 67
        }
      },
      "cell_type": "code",
      "source": [
        "movies= spark.read.format(\"csv\").option(\"header\", \"true\").load(\"/content/drive/My Drive/ml-latest/movies.csv\")\n",
        "movies.take(3)\n"
      ],
      "execution_count": 6,
      "outputs": [
        {
          "output_type": "execute_result",
          "data": {
            "text/plain": [
              "[Row(movieId='1', title='Toy Story (1995)', genres='Adventure|Animation|Children|Comedy|Fantasy'),\n",
              " Row(movieId='2', title='Jumanji (1995)', genres='Adventure|Children|Fantasy'),\n",
              " Row(movieId='3', title='Grumpier Old Men (1995)', genres='Comedy|Romance')]"
            ]
          },
          "metadata": {
            "tags": []
          },
          "execution_count": 6
        }
      ]
    },
    {
      "metadata": {
        "id": "y63KM5gtvSVF",
        "colab_type": "code",
        "colab": {
          "base_uri": "https://localhost:8080/",
          "height": 67
        },
        "outputId": "b71f6ef7-431c-4c62-e5d8-3b6ea9871819"
      },
      "cell_type": "code",
      "source": [
        "ratings= spark.read.format(\"csv\").option(\"header\", \"true\").load(\"/content/drive/My Drive/ml-latest/ratings.csv\")\n",
        " ratings.take(3)   \n",
        "\n"
      ],
      "execution_count": 42,
      "outputs": [
        {
          "output_type": "execute_result",
          "data": {
            "text/plain": [
              "[Row(userId='1', movieId='307', rating='3.5', timestamp='1256677221'),\n",
              " Row(userId='1', movieId='481', rating='3.5', timestamp='1256677456'),\n",
              " Row(userId='1', movieId='1091', rating='1.5', timestamp='1256677471')]"
            ]
          },
          "metadata": {
            "tags": []
          },
          "execution_count": 42
        }
      ]
    },
    {
      "metadata": {
        "id": "pnnYRAjMv7Ty",
        "colab_type": "code",
        "colab": {
          "base_uri": "https://localhost:8080/",
          "height": 121
        },
        "outputId": "a8af8968-4839-41b8-fff0-a2b6314307b7"
      },
      "cell_type": "code",
      "source": [
        "mergedDF = ratings.join(movies, movies.movieId == ratings.movieId,how='left') # Could also use  pd.merge(ratings,movies,on=['movieId'],how='left')\n",
        "mergedDF.head(5)"
      ],
      "execution_count": 45,
      "outputs": [
        {
          "output_type": "execute_result",
          "data": {
            "text/plain": [
              "[Row(userId='1', movieId='307', rating='3.5', timestamp='1256677221', movieId='307', title='Three Colors: Blue (Trois couleurs: Bleu) (1993)', genres='Drama'),\n",
              " Row(userId='1', movieId='481', rating='3.5', timestamp='1256677456', movieId='481', title='Kalifornia (1993)', genres='Drama|Thriller'),\n",
              " Row(userId='1', movieId='1091', rating='1.5', timestamp='1256677471', movieId='1091', title=\"Weekend at Bernie's (1989)\", genres='Comedy'),\n",
              " Row(userId='1', movieId='1257', rating='4.5', timestamp='1256677460', movieId='1257', title='Better Off Dead... (1985)', genres='Comedy|Romance'),\n",
              " Row(userId='1', movieId='1449', rating='4.5', timestamp='1256677264', movieId='1449', title='Waiting for Guffman (1996)', genres='Comedy')]"
            ]
          },
          "metadata": {
            "tags": []
          },
          "execution_count": 45
        }
      ]
    },
    {
      "metadata": {
        "id": "nWwMiVFCxyJu",
        "colab_type": "code",
        "colab": {
          "base_uri": "https://localhost:8080/",
          "height": 34
        },
        "outputId": "6f8d9ecb-a015-4019-9157-435089fe0f4b"
      },
      "cell_type": "code",
      "source": [
        "mergedDF.count()"
      ],
      "execution_count": 46,
      "outputs": [
        {
          "output_type": "execute_result",
          "data": {
            "text/plain": [
              "27753444"
            ]
          },
          "metadata": {
            "tags": []
          },
          "execution_count": 46
        }
      ]
    },
    {
      "metadata": {
        "id": "dn2oSt8wIfca",
        "colab_type": "code",
        "outputId": "2243c2e2-adaa-4439-8df9-66feab29929e",
        "colab": {
          "base_uri": "https://localhost:8080/",
          "height": 34
        }
      },
      "cell_type": "code",
      "source": [
        "temp=mergedDF.rdd\n",
        "genres=temp.map(lambda tokens: (tokens[6])).cache()\n",
        "genres.take(3)\n"
      ],
      "execution_count": 50,
      "outputs": [
        {
          "output_type": "execute_result",
          "data": {
            "text/plain": [
              "['Drama', 'Drama|Thriller', 'Comedy']"
            ]
          },
          "metadata": {
            "tags": []
          },
          "execution_count": 50
        }
      ]
    },
    {
      "metadata": {
        "id": "jhEO6a6wJjkR",
        "colab_type": "code",
        "outputId": "dd4df2bb-e2a9-4eb7-f60c-408946edcafe",
        "colab": {
          "base_uri": "https://localhost:8080/",
          "height": 34
        }
      },
      "cell_type": "code",
      "source": [
        "WordsCount=genres.flatMap(lambda line: line.split(\"|\")).map(lambda word: (word, 1))\n",
        "WordsCount.count()"
      ],
      "execution_count": 51,
      "outputs": [
        {
          "output_type": "execute_result",
          "data": {
            "text/plain": [
              "75198276"
            ]
          },
          "metadata": {
            "tags": []
          },
          "execution_count": 51
        }
      ]
    },
    {
      "metadata": {
        "id": "ZblEwl2HJsqC",
        "colab_type": "code",
        "outputId": "4517c563-4d1b-4214-a706-0984891e9634",
        "colab": {
          "base_uri": "https://localhost:8080/",
          "height": 34
        }
      },
      "cell_type": "code",
      "source": [
        "DistinctWordsCount=WordsCount.reduceByKey(lambda a,b: a+b)\n",
        "DistinctWordsCount.count()"
      ],
      "execution_count": 52,
      "outputs": [
        {
          "output_type": "execute_result",
          "data": {
            "text/plain": [
              "20"
            ]
          },
          "metadata": {
            "tags": []
          },
          "execution_count": 52
        }
      ]
    },
    {
      "metadata": {
        "id": "K1hDYgZDJy55",
        "colab_type": "code",
        "outputId": "816d6d7b-34a4-464b-8376-fb6f67fcde65",
        "colab": {
          "base_uri": "https://localhost:8080/",
          "height": 353
        }
      },
      "cell_type": "code",
      "source": [
        "SortedWordsCount=DistinctWordsCount.map(lambda a: (a[1], a[0])).sortByKey()\n",
        "#print most frequent 20 words\n",
        "SortedWordsCount.top(20)\n"
      ],
      "execution_count": 54,
      "outputs": [
        {
          "output_type": "execute_result",
          "data": {
            "text/plain": [
              "[(12191048, 'Drama'),\n",
              " (9999184, 'Comedy'),\n",
              " (8214956, 'Action'),\n",
              " (7489628, 'Thriller'),\n",
              " (6452309, 'Adventure'),\n",
              " (5078478, 'Romance'),\n",
              " (4740208, 'Sci-Fi'),\n",
              " (4631581, 'Crime'),\n",
              " (3118549, 'Fantasy'),\n",
              " (2381124, 'Children'),\n",
              " (2210388, 'Mystery'),\n",
              " (2070791, 'Horror'),\n",
              " (1803041, 'Animation'),\n",
              " (1426112, 'War'),\n",
              " (1109674, 'Musical'),\n",
              " (1102179, 'IMAX'),\n",
              " (542424, 'Western'),\n",
              " (345471, 'Documentary'),\n",
              " (272742, 'Film-Noir'),\n",
              " (18389, '(no genres listed)')]"
            ]
          },
          "metadata": {
            "tags": []
          },
          "execution_count": 54
        }
      ]
    },
    {
      "metadata": {
        "id": "ZYzlHKGzBkJq",
        "colab_type": "code",
        "colab": {
          "base_uri": "https://localhost:8080/",
          "height": 195
        },
        "outputId": "468aa6cb-a607-406f-fe3d-93101e8fcd80"
      },
      "cell_type": "code",
      "source": [
        "SortedWordsCount.collect()\n",
        "Son=SortedWordsCount.toDF(['Frequency', 'Genre']).toPandas()\n",
        "Son2=Son.nlargest(20, 'Frequency', keep='first')\n",
        "Son2.head()"
      ],
      "execution_count": 129,
      "outputs": [
        {
          "output_type": "execute_result",
          "data": {
            "text/html": [
              "<div>\n",
              "<style scoped>\n",
              "    .dataframe tbody tr th:only-of-type {\n",
              "        vertical-align: middle;\n",
              "    }\n",
              "\n",
              "    .dataframe tbody tr th {\n",
              "        vertical-align: top;\n",
              "    }\n",
              "\n",
              "    .dataframe thead th {\n",
              "        text-align: right;\n",
              "    }\n",
              "</style>\n",
              "<table border=\"1\" class=\"dataframe\">\n",
              "  <thead>\n",
              "    <tr style=\"text-align: right;\">\n",
              "      <th></th>\n",
              "      <th>Frequency</th>\n",
              "      <th>Genre</th>\n",
              "    </tr>\n",
              "  </thead>\n",
              "  <tbody>\n",
              "    <tr>\n",
              "      <th>19</th>\n",
              "      <td>12191048</td>\n",
              "      <td>Drama</td>\n",
              "    </tr>\n",
              "    <tr>\n",
              "      <th>18</th>\n",
              "      <td>9999184</td>\n",
              "      <td>Comedy</td>\n",
              "    </tr>\n",
              "    <tr>\n",
              "      <th>17</th>\n",
              "      <td>8214956</td>\n",
              "      <td>Action</td>\n",
              "    </tr>\n",
              "    <tr>\n",
              "      <th>16</th>\n",
              "      <td>7489628</td>\n",
              "      <td>Thriller</td>\n",
              "    </tr>\n",
              "    <tr>\n",
              "      <th>15</th>\n",
              "      <td>6452309</td>\n",
              "      <td>Adventure</td>\n",
              "    </tr>\n",
              "  </tbody>\n",
              "</table>\n",
              "</div>"
            ],
            "text/plain": [
              "    Frequency      Genre\n",
              "19   12191048      Drama\n",
              "18    9999184     Comedy\n",
              "17    8214956     Action\n",
              "16    7489628   Thriller\n",
              "15    6452309  Adventure"
            ]
          },
          "metadata": {
            "tags": []
          },
          "execution_count": 129
        }
      ]
    },
    {
      "metadata": {
        "id": "ePq-mrj6BuMx",
        "colab_type": "code",
        "colab": {
          "base_uri": "https://localhost:8080/",
          "height": 466
        },
        "outputId": "ff1b0ecb-a943-4eca-c525-4716b811882d"
      },
      "cell_type": "code",
      "source": [
        "import matplotlib.pyplot as plt\n",
        "import pandas as pd\n",
        "Son2.plot(kind='bar',x='Genre', y='Frequency',figsize= (18, 6) )\n",
        "plt.show()"
      ],
      "execution_count": 127,
      "outputs": [
        {
          "output_type": "display_data",
          "data": {
            "image/png": "[encoded data removed]",
            "text/plain": [
              "<Figure size 1296x432 with 1 Axes>"
            ]
          },
          "metadata": {
            "tags": []
          }
        }
      ]
    }
  ]
}