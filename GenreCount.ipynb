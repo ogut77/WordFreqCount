{
  "nbformat": 4,
  "nbformat_minor": 0,
  "metadata": {
    "colab": {
      "name": "GenreCount.ipynb",
      "version": "0.3.2",
      "provenance": [],
      "include_colab_link": true
    },
    "kernelspec": {
      "name": "python3",
      "display_name": "Python 3"
    },
    "accelerator": "GPU"
  },
  "cells": [
    {
      "cell_type": "markdown",
      "metadata": {
        "id": "view-in-github",
        "colab_type": "text"
      },
      "source": [
        "<a href=\"https://colab.research.google.com/github/ogut77/WordFreqCountSpark/blob/master/GenreCount.ipynb\" target=\"_parent\"><img src=\"https://colab.research.google.com/assets/colab-badge.svg\" alt=\"Open In Colab\"/></a>"
      ]
    },
    {
      "metadata": {
        "id": "JoJnXt9ZGVt8",
        "colab_type": "code",
        "colab": {}
      },
      "cell_type": "code",
      "source": [
        "!apt-get install openjdk-8-jdk-headless -qq > /dev/null\n",
        "!wget -q http://ftp.itu.edu.tr/Mirror/Apache/spark/spark-2.4.0/spark-2.4.0-bin-hadoop2.7.tgz\n",
        "!tar xf spark-2.4.0-bin-hadoop2.7.tgz\n",
        "!pip install -q findspark"
      ],
      "execution_count": 0,
      "outputs": []
    },
    {
      "metadata": {
        "id": "9Vo7yyTeG76L",
        "colab_type": "code",
        "colab": {}
      },
      "cell_type": "code",
      "source": [
        "import os\n",
        "os.environ[\"JAVA_HOME\"] = \"/usr/lib/jvm/java-8-openjdk-amd64\"\n",
        "os.environ[\"SPARK_HOME\"] = \"/content/spark-2.4.0-bin-hadoop2.7\""
      ],
      "execution_count": 0,
      "outputs": []
    },
    {
      "metadata": {
        "id": "dyyifKs-HAIJ",
        "colab_type": "code",
        "colab": {}
      },
      "cell_type": "code",
      "source": [
        "import findspark\n",
        "findspark.init()\n",
        "from pyspark.sql import SparkSession\n",
        "spark = SparkSession.builder.master(\"local[*]\").getOrCreate()"
      ],
      "execution_count": 0,
      "outputs": []
    },
    {
      "metadata": {
        "id": "T6-Q3HjhHESB",
        "colab_type": "code",
        "colab": {
          "base_uri": "https://localhost:8080/",
          "height": 34
        },
        "outputId": "8eca9ba1-2e9a-4b89-c622-69c33876fdf2"
      },
      "cell_type": "code",
      "source": [
        "from pyspark import SparkContext\n",
        "sc = SparkContext.getOrCreate()\n",
        "\n",
        "lines = sc.textFile(\"sample_data\") \n",
        "lines.take(5)\n",
        "#number of lines\n",
        "print(lines.count())\n"
      ],
      "execution_count": 5,
      "outputs": [
        {
          "output_type": "stream",
          "text": [
            "50068\n"
          ],
          "name": "stdout"
        }
      ]
    },
    {
      "metadata": {
        "id": "L-CTm82XHKQ6",
        "colab_type": "code",
        "colab": {
          "base_uri": "https://localhost:8080/",
          "height": 34
        },
        "outputId": "75009773-c519-4b79-bf47-7dba6fc0d376"
      },
      "cell_type": "code",
      "source": [
        "import urllib.request\n",
        "import pandas as pd \n",
        "import zipfile\n",
        "import os\n",
        "from google.colab import drive\n",
        "\n",
        "# This will prompt for authorization.\n",
        "drive.mount('/content/drive')"
      ],
      "execution_count": 6,
      "outputs": [
        {
          "output_type": "stream",
          "text": [
            "Drive already mounted at /content/drive; to attempt to forcibly remount, call drive.mount(\"/content/drive\", force_remount=True).\n"
          ],
          "name": "stdout"
        }
      ]
    },
    {
      "metadata": {
        "id": "ab_HTx0LHT54",
        "colab_type": "code",
        "colab": {
          "base_uri": "https://localhost:8080/",
          "height": 34
        },
        "outputId": "c08b9775-6e0e-4085-91a7-26101db8f6d6"
      },
      "cell_type": "code",
      "source": [
        "movies_raw_data = sc.textFile('/content/drive/My Drive/ml-latest/movies.csv')\n",
        "movies_raw_data_header = movies_raw_data.take(1)[0]\n",
        "\n",
        "movies_data = movies_raw_data.filter(lambda line: line!=movies_raw_data_header)\\\n",
        "    .map(lambda line: line.split(\",\")).map(lambda tokens: (tokens[0],tokens[1],tokens[2])).cache()\n",
        "    \n",
        "movies_data.take(3)\n",
        "type(movies_data)"
      ],
      "execution_count": 22,
      "outputs": [
        {
          "output_type": "execute_result",
          "data": {
            "text/plain": [
              "pyspark.rdd.PipelinedRDD"
            ]
          },
          "metadata": {
            "tags": []
          },
          "execution_count": 22
        }
      ]
    },
    {
      "metadata": {
        "id": "dn2oSt8wIfca",
        "colab_type": "code",
        "colab": {
          "base_uri": "https://localhost:8080/",
          "height": 67
        },
        "outputId": "5033f9bd-43a6-41f2-e286-41c4f5f726fc"
      },
      "cell_type": "code",
      "source": [
        "genres=movies_raw_data.filter(lambda line: line!=movies_raw_data_header)\\\n",
        "    .map(lambda line: line.split(\",\")).map(lambda tokens: (tokens[2])).cache()\n",
        "genres.take(3)\n"
      ],
      "execution_count": 23,
      "outputs": [
        {
          "output_type": "execute_result",
          "data": {
            "text/plain": [
              "['Adventure|Animation|Children|Comedy|Fantasy',\n",
              " 'Adventure|Children|Fantasy',\n",
              " 'Comedy|Romance']"
            ]
          },
          "metadata": {
            "tags": []
          },
          "execution_count": 23
        }
      ]
    },
    {
      "metadata": {
        "id": "jhEO6a6wJjkR",
        "colab_type": "code",
        "colab": {
          "base_uri": "https://localhost:8080/",
          "height": 34
        },
        "outputId": "21d30949-2407-4478-f2e1-5ab669be8f04"
      },
      "cell_type": "code",
      "source": [
        "WordsCount=genres.flatMap(lambda line: line.split(\"|\")).map(lambda word: (word, 1))\n",
        "WordsCount.count()"
      ],
      "execution_count": 10,
      "outputs": [
        {
          "output_type": "execute_result",
          "data": {
            "text/plain": [
              "99327"
            ]
          },
          "metadata": {
            "tags": []
          },
          "execution_count": 10
        }
      ]
    },
    {
      "metadata": {
        "id": "ZblEwl2HJsqC",
        "colab_type": "code",
        "colab": {
          "base_uri": "https://localhost:8080/",
          "height": 34
        },
        "outputId": "48113b2c-0b9a-456a-986e-df22454e9f8f"
      },
      "cell_type": "code",
      "source": [
        "DistinctWordsCount=WordsCount.reduceByKey(lambda a,b: a+b)\n",
        "DistinctWordsCount.count()"
      ],
      "execution_count": 11,
      "outputs": [
        {
          "output_type": "execute_result",
          "data": {
            "text/plain": [
              "3379"
            ]
          },
          "metadata": {
            "tags": []
          },
          "execution_count": 11
        }
      ]
    },
    {
      "metadata": {
        "id": "hZLJ5PNYSM2j",
        "colab_type": "code",
        "colab": {}
      },
      "cell_type": "code",
      "source": [
        ""
      ],
      "execution_count": 0,
      "outputs": []
    },
    {
      "metadata": {
        "id": "K1hDYgZDJy55",
        "colab_type": "code",
        "colab": {
          "base_uri": "https://localhost:8080/",
          "height": 353
        },
        "outputId": "4926e203-0580-4140-a439-fcbe2315a2dc"
      },
      "cell_type": "code",
      "source": [
        "SortedWordsCount=DistinctWordsCount.map(lambda a: (a[1], a[0])).sortByKey()\n",
        "#print most frequent 20 words\n",
        "SortedWordsCount.top(20)"
      ],
      "execution_count": 18,
      "outputs": [
        {
          "output_type": "execute_result",
          "data": {
            "text/plain": [
              "[(20484, 'Drama'),\n",
              " (13851, 'Comedy'),\n",
              " (7125, 'Thriller'),\n",
              " (6398, 'Action'),\n",
              " (6381, 'Romance'),\n",
              " (4862, 'Horror'),\n",
              " (4530, 'Documentary'),\n",
              " (4367, 'Crime'),\n",
              " (4135, '(no genres listed)'),\n",
              " (3430, 'Adventure'),\n",
              " (3083, 'Sci-Fi'),\n",
              " (2424, 'Animation'),\n",
              " (2416, 'Children'),\n",
              " (2340, 'Mystery'),\n",
              " (2262, 'Fantasy'),\n",
              " (1506, 'War'),\n",
              " (1147, 'Western'),\n",
              " (889, 'Musical'),\n",
              " (263, 'Film-Noir'),\n",
              " (168, 'IMAX')]"
            ]
          },
          "metadata": {
            "tags": []
          },
          "execution_count": 18
        }
      ]
    },
    {
      "metadata": {
        "id": "fyWhYgF_NQ7K",
        "colab_type": "code",
        "colab": {}
      },
      "cell_type": "code",
      "source": [
        "from pandas import DataFrame, read_csv\n",
        "\n",
        "import matplotlib.pyplot as plt\n",
        "import pandas as pd #this is how I usually import pandas\n",
        "import sys #only needed to determine Python version number\n",
        "import matplotlib #only needed to determine Matplotlib version number\n",
        "\n",
        "# Enable inline plotting\n",
        "%matplotlib inline"
      ],
      "execution_count": 0,
      "outputs": []
    },
    {
      "metadata": {
        "id": "T8R9bqAzNTu5",
        "colab_type": "code",
        "colab": {
          "base_uri": "https://localhost:8080/",
          "height": 195
        },
        "outputId": "ab468403-6739-41c6-c214-534c8f0d9b21"
      },
      "cell_type": "code",
      "source": [
        "moviesDF = pd.read_csv('/content/drive/My Drive/ml-latest/movies.csv')\n",
        "moviesDF.head()"
      ],
      "execution_count": 25,
      "outputs": [
        {
          "output_type": "execute_result",
          "data": {
            "text/html": [
              "<div>\n",
              "<style scoped>\n",
              "    .dataframe tbody tr th:only-of-type {\n",
              "        vertical-align: middle;\n",
              "    }\n",
              "\n",
              "    .dataframe tbody tr th {\n",
              "        vertical-align: top;\n",
              "    }\n",
              "\n",
              "    .dataframe thead th {\n",
              "        text-align: right;\n",
              "    }\n",
              "</style>\n",
              "<table border=\"1\" class=\"dataframe\">\n",
              "  <thead>\n",
              "    <tr style=\"text-align: right;\">\n",
              "      <th></th>\n",
              "      <th>movieId</th>\n",
              "      <th>title</th>\n",
              "      <th>genres</th>\n",
              "    </tr>\n",
              "  </thead>\n",
              "  <tbody>\n",
              "    <tr>\n",
              "      <th>0</th>\n",
              "      <td>1</td>\n",
              "      <td>Toy Story (1995)</td>\n",
              "      <td>Adventure|Animation|Children|Comedy|Fantasy</td>\n",
              "    </tr>\n",
              "    <tr>\n",
              "      <th>1</th>\n",
              "      <td>2</td>\n",
              "      <td>Jumanji (1995)</td>\n",
              "      <td>Adventure|Children|Fantasy</td>\n",
              "    </tr>\n",
              "    <tr>\n",
              "      <th>2</th>\n",
              "      <td>3</td>\n",
              "      <td>Grumpier Old Men (1995)</td>\n",
              "      <td>Comedy|Romance</td>\n",
              "    </tr>\n",
              "    <tr>\n",
              "      <th>3</th>\n",
              "      <td>4</td>\n",
              "      <td>Waiting to Exhale (1995)</td>\n",
              "      <td>Comedy|Drama|Romance</td>\n",
              "    </tr>\n",
              "    <tr>\n",
              "      <th>4</th>\n",
              "      <td>5</td>\n",
              "      <td>Father of the Bride Part II (1995)</td>\n",
              "      <td>Comedy</td>\n",
              "    </tr>\n",
              "  </tbody>\n",
              "</table>\n",
              "</div>"
            ],
            "text/plain": [
              "   movieId                               title  \\\n",
              "0        1                    Toy Story (1995)   \n",
              "1        2                      Jumanji (1995)   \n",
              "2        3             Grumpier Old Men (1995)   \n",
              "3        4            Waiting to Exhale (1995)   \n",
              "4        5  Father of the Bride Part II (1995)   \n",
              "\n",
              "                                        genres  \n",
              "0  Adventure|Animation|Children|Comedy|Fantasy  \n",
              "1                   Adventure|Children|Fantasy  \n",
              "2                               Comedy|Romance  \n",
              "3                         Comedy|Drama|Romance  \n",
              "4                                       Comedy  "
            ]
          },
          "metadata": {
            "tags": []
          },
          "execution_count": 25
        }
      ]
    },
    {
      "metadata": {
        "id": "dvdRKI2YNb8a",
        "colab_type": "code",
        "colab": {
          "base_uri": "https://localhost:8080/",
          "height": 195
        },
        "outputId": "87f4b27f-2442-49ad-d6eb-0a44141261dd"
      },
      "cell_type": "code",
      "source": [
        "ratingsDF = pd.read_csv('/content/drive/My Drive/ml-latest/ratings.csv')\n",
        "ratingsDF.head()"
      ],
      "execution_count": 26,
      "outputs": [
        {
          "output_type": "execute_result",
          "data": {
            "text/html": [
              "<div>\n",
              "<style scoped>\n",
              "    .dataframe tbody tr th:only-of-type {\n",
              "        vertical-align: middle;\n",
              "    }\n",
              "\n",
              "    .dataframe tbody tr th {\n",
              "        vertical-align: top;\n",
              "    }\n",
              "\n",
              "    .dataframe thead th {\n",
              "        text-align: right;\n",
              "    }\n",
              "</style>\n",
              "<table border=\"1\" class=\"dataframe\">\n",
              "  <thead>\n",
              "    <tr style=\"text-align: right;\">\n",
              "      <th></th>\n",
              "      <th>userId</th>\n",
              "      <th>movieId</th>\n",
              "      <th>rating</th>\n",
              "      <th>timestamp</th>\n",
              "    </tr>\n",
              "  </thead>\n",
              "  <tbody>\n",
              "    <tr>\n",
              "      <th>0</th>\n",
              "      <td>1</td>\n",
              "      <td>307</td>\n",
              "      <td>3.5</td>\n",
              "      <td>1256677221</td>\n",
              "    </tr>\n",
              "    <tr>\n",
              "      <th>1</th>\n",
              "      <td>1</td>\n",
              "      <td>481</td>\n",
              "      <td>3.5</td>\n",
              "      <td>1256677456</td>\n",
              "    </tr>\n",
              "    <tr>\n",
              "      <th>2</th>\n",
              "      <td>1</td>\n",
              "      <td>1091</td>\n",
              "      <td>1.5</td>\n",
              "      <td>1256677471</td>\n",
              "    </tr>\n",
              "    <tr>\n",
              "      <th>3</th>\n",
              "      <td>1</td>\n",
              "      <td>1257</td>\n",
              "      <td>4.5</td>\n",
              "      <td>1256677460</td>\n",
              "    </tr>\n",
              "    <tr>\n",
              "      <th>4</th>\n",
              "      <td>1</td>\n",
              "      <td>1449</td>\n",
              "      <td>4.5</td>\n",
              "      <td>1256677264</td>\n",
              "    </tr>\n",
              "  </tbody>\n",
              "</table>\n",
              "</div>"
            ],
            "text/plain": [
              "   userId  movieId  rating   timestamp\n",
              "0       1      307     3.5  1256677221\n",
              "1       1      481     3.5  1256677456\n",
              "2       1     1091     1.5  1256677471\n",
              "3       1     1257     4.5  1256677460\n",
              "4       1     1449     4.5  1256677264"
            ]
          },
          "metadata": {
            "tags": []
          },
          "execution_count": 26
        }
      ]
    },
    {
      "metadata": {
        "id": "Et8JfnVgNiWp",
        "colab_type": "code",
        "colab": {
          "base_uri": "https://localhost:8080/",
          "height": 195
        },
        "outputId": "90bb2eda-b614-4b25-840b-24739082ae54"
      },
      "cell_type": "code",
      "source": [
        "mergedDF = pd.merge(ratingsDF,moviesDF,on=['movieId'],how='left')\n",
        "mergedDF.head()"
      ],
      "execution_count": 27,
      "outputs": [
        {
          "output_type": "execute_result",
          "data": {
            "text/html": [
              "<div>\n",
              "<style scoped>\n",
              "    .dataframe tbody tr th:only-of-type {\n",
              "        vertical-align: middle;\n",
              "    }\n",
              "\n",
              "    .dataframe tbody tr th {\n",
              "        vertical-align: top;\n",
              "    }\n",
              "\n",
              "    .dataframe thead th {\n",
              "        text-align: right;\n",
              "    }\n",
              "</style>\n",
              "<table border=\"1\" class=\"dataframe\">\n",
              "  <thead>\n",
              "    <tr style=\"text-align: right;\">\n",
              "      <th></th>\n",
              "      <th>userId</th>\n",
              "      <th>movieId</th>\n",
              "      <th>rating</th>\n",
              "      <th>timestamp</th>\n",
              "      <th>title</th>\n",
              "      <th>genres</th>\n",
              "    </tr>\n",
              "  </thead>\n",
              "  <tbody>\n",
              "    <tr>\n",
              "      <th>0</th>\n",
              "      <td>1</td>\n",
              "      <td>307</td>\n",
              "      <td>3.5</td>\n",
              "      <td>1256677221</td>\n",
              "      <td>Three Colors: Blue (Trois couleurs: Bleu) (1993)</td>\n",
              "      <td>Drama</td>\n",
              "    </tr>\n",
              "    <tr>\n",
              "      <th>1</th>\n",
              "      <td>1</td>\n",
              "      <td>481</td>\n",
              "      <td>3.5</td>\n",
              "      <td>1256677456</td>\n",
              "      <td>Kalifornia (1993)</td>\n",
              "      <td>Drama|Thriller</td>\n",
              "    </tr>\n",
              "    <tr>\n",
              "      <th>2</th>\n",
              "      <td>1</td>\n",
              "      <td>1091</td>\n",
              "      <td>1.5</td>\n",
              "      <td>1256677471</td>\n",
              "      <td>Weekend at Bernie's (1989)</td>\n",
              "      <td>Comedy</td>\n",
              "    </tr>\n",
              "    <tr>\n",
              "      <th>3</th>\n",
              "      <td>1</td>\n",
              "      <td>1257</td>\n",
              "      <td>4.5</td>\n",
              "      <td>1256677460</td>\n",
              "      <td>Better Off Dead... (1985)</td>\n",
              "      <td>Comedy|Romance</td>\n",
              "    </tr>\n",
              "    <tr>\n",
              "      <th>4</th>\n",
              "      <td>1</td>\n",
              "      <td>1449</td>\n",
              "      <td>4.5</td>\n",
              "      <td>1256677264</td>\n",
              "      <td>Waiting for Guffman (1996)</td>\n",
              "      <td>Comedy</td>\n",
              "    </tr>\n",
              "  </tbody>\n",
              "</table>\n",
              "</div>"
            ],
            "text/plain": [
              "   userId  movieId  rating   timestamp  \\\n",
              "0       1      307     3.5  1256677221   \n",
              "1       1      481     3.5  1256677456   \n",
              "2       1     1091     1.5  1256677471   \n",
              "3       1     1257     4.5  1256677460   \n",
              "4       1     1449     4.5  1256677264   \n",
              "\n",
              "                                              title          genres  \n",
              "0  Three Colors: Blue (Trois couleurs: Bleu) (1993)           Drama  \n",
              "1                                 Kalifornia (1993)  Drama|Thriller  \n",
              "2                        Weekend at Bernie's (1989)          Comedy  \n",
              "3                         Better Off Dead... (1985)  Comedy|Romance  \n",
              "4                        Waiting for Guffman (1996)          Comedy  "
            ]
          },
          "metadata": {
            "tags": []
          },
          "execution_count": 27
        }
      ]
    },
    {
      "metadata": {
        "id": "HIKUG023NnIK",
        "colab_type": "code",
        "colab": {}
      },
      "cell_type": "code",
      "source": [
        "mergedDF.to_csv('/content/drive/My Drive/ml-latest/merged.csv', encoding='utf-8', index=False)"
      ],
      "execution_count": 0,
      "outputs": []
    },
    {
      "metadata": {
        "id": "u7HoRVM3OAc7",
        "colab_type": "code",
        "colab": {
          "base_uri": "https://localhost:8080/",
          "height": 34
        },
        "outputId": "573bad6a-4987-434b-b0c1-e7e5533cae1f"
      },
      "cell_type": "code",
      "source": [
        "merged = sc.textFile('/content/drive/My Drive/ml-latest/merged.csv')\n",
        "merged_header = merged.take(1)[0]\n",
        "\n",
        "genre = merged.filter(lambda line: line!=merged_header)\\\n",
        "    .map(lambda line: line.split(\",\")).map(lambda tokens: (tokens[5])).cache()\n",
        "\n",
        "genre.take(3)"
      ],
      "execution_count": 38,
      "outputs": [
        {
          "output_type": "execute_result",
          "data": {
            "text/plain": [
              "['Drama', 'Drama|Thriller', 'Comedy']"
            ]
          },
          "metadata": {
            "tags": []
          },
          "execution_count": 38
        }
      ]
    },
    {
      "metadata": {
        "id": "qWKR8BWlQYdS",
        "colab_type": "code",
        "colab": {
          "base_uri": "https://localhost:8080/",
          "height": 34
        },
        "outputId": "17bf7ea2-8e19-419b-b2c2-bc52a3e5db26"
      },
      "cell_type": "code",
      "source": [
        "WordsCount=genre.flatMap(lambda line: line.split(\"|\")).map(lambda word: (word, 1))\n",
        "WordsCount.count()"
      ],
      "execution_count": 40,
      "outputs": [
        {
          "output_type": "execute_result",
          "data": {
            "text/plain": [
              "64258382"
            ]
          },
          "metadata": {
            "tags": []
          },
          "execution_count": 40
        }
      ]
    },
    {
      "metadata": {
        "id": "-eYEmIfBSP3D",
        "colab_type": "code",
        "colab": {
          "base_uri": "https://localhost:8080/",
          "height": 34
        },
        "outputId": "c433168a-fd63-4e80-af49-d804b64461bd"
      },
      "cell_type": "code",
      "source": [
        "DistinctWordsCount=WordsCount.reduceByKey(lambda a,b: a+b)\n",
        "DistinctWordsCount.count()"
      ],
      "execution_count": 41,
      "outputs": [
        {
          "output_type": "execute_result",
          "data": {
            "text/plain": [
              "3232"
            ]
          },
          "metadata": {
            "tags": []
          },
          "execution_count": 41
        }
      ]
    },
    {
      "metadata": {
        "id": "33EByoe5QLnq",
        "colab_type": "code",
        "colab": {
          "base_uri": "https://localhost:8080/",
          "height": 1697
        },
        "outputId": "be54f77c-05f5-4833-a0a0-301c33f90425"
      },
      "cell_type": "code",
      "source": [
        "SortedWordsCount=DistinctWordsCount.map(lambda a: (a[1], a[0])).sortByKey()\n",
        "#print most frequent 100 words\n",
        "SortedWordsCount.top(100)"
      ],
      "execution_count": 44,
      "outputs": [
        {
          "output_type": "execute_result",
          "data": {
            "text/plain": [
              "[(9176178, 'Drama'),\n",
              " (8016219, 'Comedy'),\n",
              " (6528028, 'Action'),\n",
              " (5542389, 'Thriller'),\n",
              " (5050071, 'Adventure'),\n",
              " (4066826, 'Romance'),\n",
              " (3924800, 'Sci-Fi'),\n",
              " (3367919, 'Crime'),\n",
              " (2263230, 'Fantasy'),\n",
              " (1752460, 'Children'),\n",
              " (1604549, 'Mystery'),\n",
              " (1456071, 'Horror'),\n",
              " (1391469, 'Animation'),\n",
              " (1127654, 'War'),\n",
              " (872472, 'IMAX'),\n",
              " (794386, 'Musical'),\n",
              " (435967, 'Western'),\n",
              " (374184, ' The (1999)\"'),\n",
              " (349015, ' The (1994)\"'),\n",
              " (281502, 'Documentary'),\n",
              " (266669, ' The (1996)\"'),\n",
              " (220376, 'Film-Noir'),\n",
              " (205790, ' The (1993)\"'),\n",
              " (204194, ' The (1998)\"'),\n",
              " (187208, ' The (1995)\"'),\n",
              " (175975, ' The (2002)\"'),\n",
              " (174839, ' The (2003)\"'),\n",
              " (168318, ' The (2001)\"'),\n",
              " (165656, ' The (1997)\"'),\n",
              " (157591, ' The (2004)\"'),\n",
              " (142841, ' The (1991)\"'),\n",
              " (135202, ' The (2006)\"'),\n",
              " (132681, ' The (2000)\"'),\n",
              " (108764, ' The (2008)\"'),\n",
              " (98138, ' The (1987)\"'),\n",
              " (95648, ' The (1984)\"'),\n",
              " (95092, ' The (2012)\"'),\n",
              " (88789, ' The (1980)\"'),\n",
              " (87247, ' The (2005)\"'),\n",
              " (84293, ' The (2010)\"'),\n",
              " (78560, ' The (2007)\"'),\n",
              " (73041, ' The (1972)\"'),\n",
              " (70839, ' The (1985)\"'),\n",
              " (69134, ' The (1992)\"'),\n",
              " (63008, ' The (2013)\"'),\n",
              " (61803, ' The (1974)\"'),\n",
              " (60691, ' The (2009)\"'),\n",
              " (59529, ' The (1990)\"'),\n",
              " (57427, ' The (2011)\"'),\n",
              " (56458, ' The (1989)\"'),\n",
              " (46335, ' The (1973)\"'),\n",
              " (45843, ' A (1998)\"'),\n",
              " (43477, ' The (1982)\"'),\n",
              " (43472, ' The (1963)\"'),\n",
              " (43199, ' The (1967)\"'),\n",
              " (42284, ' A (2001)\"'),\n",
              " (42185, ' Le) (2001)\"'),\n",
              " (42120, ' The (1988)\"'),\n",
              " (38672, ' The (1986)\"'),\n",
              " (37775, ' A (1992)\"'),\n",
              " (37112, ' Inc. (2001)\"'),\n",
              " (32531, ' A (1971)\"'),\n",
              " (32049, ' The (1979)\"'),\n",
              " (31889, ' The (2014)\"'),\n",
              " (31797, ' The (1975)\"'),\n",
              " (31428, ' The (1939)\"'),\n",
              " (31224, ' Hidden Dragon (Wo hu cang long) (2000)\"'),\n",
              " (30539, ' The (1983)\"'),\n",
              " (26906, ' The (1978)\"'),\n",
              " (25328, ' Where Art Thou? (2000)\"'),\n",
              " (24753, ' A (1988)\"'),\n",
              " (22659, ' The (1965)\"'),\n",
              " (22492, ' The (1951)\"'),\n",
              " (21892, ' The (1940)\"'),\n",
              " (21464, ' The (1981)\"'),\n",
              " (20843, ' Stock & Two Smoking Barrels (1998)\"'),\n",
              " (20509, ' El) (2006)\"'),\n",
              " (20341, ' Longer and Uncut (1999)\"'),\n",
              " (20164, ' The (1960)\"'),\n",
              " (19731, ' the Bad and the Ugly'),\n",
              " (19524, ' The (1976)\"'),\n",
              " (19299, ' A (1996)\"'),\n",
              " (19163, ' I Shrunk the Kids (1989)\"'),\n",
              " (18914, ' The (1971)\"'),\n",
              " (18618, ' The (1962)\"'),\n",
              " (18478, ' The (1961)\"'),\n",
              " (18464, ' The (1968)\"'),\n",
              " (18118, ' The (1956)\"'),\n",
              " (18108, '(no genres listed)'),\n",
              " (18016, ' A (1995)\"'),\n",
              " (17848, ' Robot (2004)\"'),\n",
              " (17705, ' The (1941)\"'),\n",
              " (17434, ' The (1957)\"'),\n",
              " (15936, ' Das (Boat'),\n",
              " (15489, ' The (1977)\"'),\n",
              " (14808, ' A (1983)\"'),\n",
              " (13784, ' Vietnam (1987)\"'),\n",
              " (13388, ' The (Postino'),\n",
              " (13042, ' the Witch and the Wardrobe'),\n",
              " (12274, ' The (1970)\"')]"
            ]
          },
          "metadata": {
            "tags": []
          },
          "execution_count": 44
        }
      ]
    },
    {
      "metadata": {
        "id": "PNpl01e_QUW5",
        "colab_type": "code",
        "colab": {}
      },
      "cell_type": "code",
      "source": [
        ""
      ],
      "execution_count": 0,
      "outputs": []
    }
  ]
}